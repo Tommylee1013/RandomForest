{
 "cells": [
  {
   "cell_type": "markdown",
   "metadata": {},
   "source": [
    "### Experiment"
   ]
  },
  {
   "cell_type": "code",
   "execution_count": null,
   "metadata": {
    "ExecuteTime": {
     "start_time": "2023-05-16T01:17:36.525805Z",
     "end_time": "2023-05-16T01:17:50.317606Z"
    }
   },
   "outputs": [],
   "source": [
    "import pandas as pd\n",
    "import numpy as np\n",
    "import datetime as dt\n",
    "from tqdm import tqdm\n",
    "from itertools import product\n",
    "import matplotlib.pyplot as plt\n",
    "import plotly.graph_objects as go\n",
    "import plotly.subplots as sp\n",
    "import neptune\n",
    "import seaborn as sns\n",
    "\n",
    "from sklearn.tree import DecisionTreeClassifier\n",
    "from sklearn.ensemble import RandomForestClassifier, RandomForestRegressor, BaggingClassifier\n",
    "from sklearn.model_selection import train_test_split\n",
    "\n",
    "from sklearn.calibration import CalibratedClassifierCV, CalibrationDisplay, calibration_curve\n",
    "from sklearn.preprocessing import StandardScaler\n",
    "import quantstats as qs\n",
    "from scipy.stats import norm\n",
    "from statsmodels.distributions.empirical_distribution import ECDF\n",
    "from sklearn.metrics import brier_score_loss, f1_score, precision_score, recall_score, confusion_matrix\n",
    "\n",
    "import warnings\n",
    "warnings.filterwarnings('ignore')"
   ]
  },
  {
   "cell_type": "code",
   "execution_count": null,
   "outputs": [],
   "source": [],
   "metadata": {
    "collapsed": false,
    "ExecuteTime": {
     "start_time": "2023-05-16T01:17:50.308536Z",
     "end_time": "2023-05-16T01:17:50.329155Z"
    }
   }
  },
  {
   "cell_type": "code",
   "execution_count": null,
   "metadata": {
    "ExecuteTime": {
     "start_time": "2023-05-16T01:17:50.308877Z",
     "end_time": "2023-05-16T01:18:02.602772Z"
    }
   },
   "outputs": [],
   "source": [
    "%load_ext autoreload\n",
    "%autoreload 2\n",
    "\n",
    "from data_generation import * \n",
    "from visualization import * "
   ]
  },
  {
   "cell_type": "code",
   "execution_count": null,
   "metadata": {
    "ExecuteTime": {
     "start_time": "2023-05-16T01:18:02.602089Z",
     "end_time": "2023-05-16T01:18:02.673362Z"
    }
   },
   "outputs": [],
   "source": [
    "hparams_ = {'steps': [200, 2000, 10000], 'SNR':[[-0.05, -0.05, 0.1], [0.4, -0.45, -0.4], [0.6, -0.45, 0.65]], \n",
    "            'max_samples':[round(x,2) for x in np.linspace(0.6, 0.8, 2)], 'ccp_alpha':[round(x,4) for x in np.linspace(0., 0.001, 2)]}\n",
    "hparams = (dict(zip(hparams_, i)) for i in product(*hparams_.values()))"
   ]
  },
  {
   "cell_type": "code",
   "execution_count": null,
   "metadata": {
    "ExecuteTime": {
     "end_time": "2023-05-15T16:07:44.719789Z",
     "start_time": "2023-05-15T16:07:39.344165Z"
    }
   },
   "outputs": [],
   "source": [
    "for params in tqdm(hparams):\n",
    "\n",
    "    # neptune initialization\n",
    "    run = neptune.init_project(project=\"tommylee1013/Random-Forest\", api_token=\"eyJhcGlfYWRkcmVzcyI6Imh0dHBzOi8vYXBwLm5lcHR1bmUuYWkiLCJhcGlfdXJsIjoiaHR0cHM6Ly9hcHAubmVwdHVuZS5haSIsImFwaV9rZXkiOiIyNjIxNjcxNC1hMDRmLTRhNzktYTE4MC05ZTU1NTJkNDZhYTQifQ==\") # your credentials\n",
    "    for name in ['steps', 'ccp_alpha', 'max_samples']: # Hyperparameter\n",
    "        run[f'hparam/{name}'] = params[name]\n",
    "\n",
    "    for path in range(36): # 실험\n",
    "        # (1) synthetic data generation\n",
    "        data, snr = dual_regime(phi=params['SNR'], total_steps=params['steps']); run[f'hparam/SNR(R2)'].append(snr)\n",
    "        model_data, data = prep_data(data=data, with_flags=True) # AR(3) model 생성?, regime : 장 상황 (매수매도 상황인듯)\n",
    "\n",
    "        # (2) train_test_split, pre-processing\n",
    "        scaler = StandardScaler()\n",
    "        train, test = train_test_split(model_data, test_size=0.3, shuffle=False)\n",
    "        X_train_regime = train[['rets', 'rets2', 'rets3', 'regime']]; y_train = train['target']\n",
    "        X_test_regime = test[['rets', 'rets2', 'rets3', 'regime']]; y_test = test['target']\n",
    "\n",
    "        X_train_regime_scaled = scaler.fit_transform(X_train_regime[['rets', 'rets2', 'rets3']])\n",
    "        regime = X_train_regime['regime'].values.reshape((-1, 1))\n",
    "        X_train_regime_scaled = np.append(X_train_regime_scaled, regime, axis=1)\n",
    "\n",
    "        X_test_regime_scaled = scaler.transform(X_test_regime[['rets', 'rets2', 'rets3']])\n",
    "        regime = X_test_regime['regime'].values.reshape((-1, 1))\n",
    "        X_test_regime_scaled = np.append(X_test_regime_scaled, regime, axis=1)\n",
    "\n",
    "        ## (3) train Random Forest ##\n",
    "        #Random Forest\n",
    "        trained_model_rf = RandomForestClassifier(n_estimators = 300, ccp_alpha = params['ccp_alpha'], max_samples = params['max_samples'])\n",
    "        fit_rf = trained_model_rf.fit(X_train_regime, y_train)\n",
    "\n",
    "        #DecisionTree - Bagging Classifier\n",
    "        dt = DecisionTreeClassifier(criterion = 'entropy', max_features = 'auto', class_weight = 'balanced', ccp_alpha = params['ccp_alpha'])\n",
    "        trained_model_bc = BaggingClassifier(base_estimator = dt, n_estimators = 300, max_samples = params['max_samples'])\n",
    "        fit_bc = trained_model_bc.fit(X_train_regime, y_train)\n",
    "\n",
    "        #Random Forest - Bagging Classifier\n",
    "        rf = RandomForestClassifier(n_estimators = 1, criterion = 'entropy', bootstrap = False, class_weight = 'balanced_subsample',  ccp_alpha = params['ccp_alpha'])\n",
    "        trained_model_rf_bc = BaggingClassifier(base_estimator = rf, n_estimators = 300, max_samples = params['max_samples'])\n",
    "        fit_rf_bc = trained_model_rf_bc.fit(X_train_regime, y_train)\n",
    "\n",
    "        # train_set reliability plot\n",
    "        prob_train_rf = trained_model_rf.predict_proba(X_train_regime)[:, 1]\n",
    "        prob_train_bc = trained_model_bc.predict_proba(X_train_regime)[:, 1]\n",
    "        prob_train_rf_bc = trained_model_rf_bc.predict_proba(X_train_regime)[:, 1]\n",
    "\n",
    "        fig, axes = plt.subplots(3, 1, figsize=(8,10))\n",
    "        for ax, fit, title in zip(axes, [fit_rf, fit_bc, fit_rf_bc], ['RandomForest', 'DecisionTree - Bagging', 'RandomForest - Bagging']):\n",
    "            sns.histplot(fit.predict_proba(X_train_regime)[:, 1], kde=True, ax=ax, alpha = 0.4)\n",
    "            sns.histplot(fit.predict_proba(X_train_regime)[:, 0], kde=True, ax=ax, color = 'red', alpha = 0.4)\n",
    "            ax.legend()\n",
    "            ax.set_title(title)\n",
    "        plt.tight_layout()\n",
    "\n",
    "        run[f'plot/train/{path}'].upload(fig)\n",
    "\n",
    "        # test_set reliability plot\n",
    "        prob_test_rf = trained_model_rf.predict_proba(X_test_regime)[:, 1]\n",
    "        prob_test_bc = trained_model_bc.predict_proba(X_test_regime)[:, 1]\n",
    "        prob_test_rf_bc = trained_model_rf_bc.predict_proba(X_test_regime)[:, 1]\n",
    "\n",
    "        fig, axes = plt.subplots(3, 1, figsize=(8,10))\n",
    "        for ax, fit, title in zip(axes, [fit_rf, fit_bc, fit_rf_bc], ['RandomForest', 'DecisionTree - Bagging', 'RandomForest - Bagging']):\n",
    "            sns.histplot(fit.predict_proba(X_test_regime)[:, 1], kde=True, ax=ax, alpha = 0.4)\n",
    "            sns.histplot(fit.predict_proba(X_test_regime)[:, 0], kde=True, ax=ax, color = 'red', alpha = 0.4)\n",
    "            ax.legend()\n",
    "            ax.set_title(title)\n",
    "        plt.tight_layout()\n",
    "\n",
    "        run[f'plot/test/{path}'].upload(fig)\n",
    "\n",
    "        # test_set score => F1, Precision, Recall, Brier\n",
    "        pred_test_rf = trained_model_rf.predict(X_test_regime)\n",
    "        pred_test_bc = trained_model_bc.predict(X_test_regime)\n",
    "        pred_test_rf_bc = trained_model_rf_bc.predict(X_test_regime)\n",
    "\n",
    "\n",
    "        for name, pred in zip(['RandomForest', 'DecisionTree - Bagging', 'RandomForest - Bagging'], [pred_test_rf, pred_test_bc, pred_test_rf_bc]):\n",
    "            run[f'metrics/{name}/brier'].append(brier_score_loss(y_test.values, pred))\n",
    "            run[f'metrics/{name}/f1'].append(f1_score(y_test.values, pred, average='micro'))\n",
    "            run[f'metrics/{name}/precision'].append(precision_score(y_test.values, pred, average='micro'))\n",
    "            run[f'metrics/{name}/recall'].append(recall_score(y_test.values, pred, average='micro'))\n",
    "\n",
    "            fig, ax = plt.subplots(figsize=(6, 4))\n",
    "            sns.heatmap(confusion_matrix(y_test.values, pred), annot=True, fmt='g', ax=ax)\n",
    "            plt.xlabel('Predicted'); plt.ylabel('Actual'); run[f'metrics/{name}/conf_mtx/{path}'].upload(fig)\n",
    "\n",
    "    run.stop()"
   ]
  },
  {
   "cell_type": "code",
   "execution_count": null,
   "outputs": [],
   "source": [],
   "metadata": {
    "collapsed": false
   }
  }
 ],
 "metadata": {
  "kernelspec": {
   "display_name": "AFML2",
   "language": "python",
   "name": "python3"
  },
  "language_info": {
   "codemirror_mode": {
    "name": "ipython",
    "version": 3
   },
   "file_extension": ".py",
   "mimetype": "text/x-python",
   "name": "python",
   "nbconvert_exporter": "python",
   "pygments_lexer": "ipython3",
   "version": "3.7.0"
  },
  "orig_nbformat": 4,
  "vscode": {
   "interpreter": {
    "hash": "5eb8228ba3c7276b0d68ad0b5b6f02b5a3d3a970c089049b4b76c3c44b380a2d"
   }
  }
 },
 "nbformat": 4,
 "nbformat_minor": 2
}
